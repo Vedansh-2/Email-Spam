{
 "cells": [
  {
   "cell_type": "code",
   "execution_count": 1,
   "id": "b0a9795c",
   "metadata": {},
   "outputs": [],
   "source": [
    "import pandas as pd\n",
    "from sklearn.model_selection import train_test_split\n",
    "from sklearn.feature_extraction.text import TfidfVectorizer\n",
    "from sklearn.preprocessing import OneHotEncoder\n",
    "from sklearn.linear_model import LogisticRegression\n",
    "from sklearn.metrics import accuracy_score\n"
   ]
  },
  {
   "cell_type": "code",
   "execution_count": 2,
   "id": "2101316d",
   "metadata": {},
   "outputs": [],
   "source": [
    "df = pd.read_csv('/Users/vedansh/Downloads/combined_data.csv')"
   ]
  },
  {
   "cell_type": "code",
   "execution_count": 3,
   "id": "e4db2fd7",
   "metadata": {},
   "outputs": [
    {
     "name": "stdout",
     "output_type": "stream",
     "text": [
      "       label                                               text\n",
      "0          1  ounce feather bowl hummingbird opec moment ala...\n",
      "1          1  wulvob get your medircations online qnb ikud v...\n",
      "2          0   computer connection from cnn com wednesday es...\n",
      "3          1  university degree obtain a prosperous future m...\n",
      "4          0  thanks for all your answers guys i know i shou...\n",
      "...      ...                                                ...\n",
      "83443      0  hi given a date how do i get the last date of ...\n",
      "83444      1  now you can order software on cd or download i...\n",
      "83445      1  dear valued member canadianpharmacy provides a...\n",
      "83446      0  subscribe change profile contact us long term ...\n",
      "83447      1  get the most out of life ! viagra has helped m...\n",
      "\n",
      "[83448 rows x 2 columns]\n"
     ]
    }
   ],
   "source": [
    "print(df)"
   ]
  },
  {
   "cell_type": "code",
   "execution_count": 4,
   "id": "524721df",
   "metadata": {},
   "outputs": [],
   "source": [
    "x= df['text']\n",
    "y= df['label']"
   ]
  },
  {
   "cell_type": "code",
   "execution_count": 5,
   "id": "231c27ef",
   "metadata": {},
   "outputs": [],
   "source": [
    "x_train, x_test, y_train, y_test= train_test_split(x, y, test_size=0.2, random_state=3)"
   ]
  },
  {
   "cell_type": "code",
   "execution_count": 6,
   "id": "d3b1a936",
   "metadata": {},
   "outputs": [],
   "source": [
    "lowercase_value = True"
   ]
  },
  {
   "cell_type": "code",
   "execution_count": 7,
   "id": "eff7ba54",
   "metadata": {},
   "outputs": [],
   "source": [
    "feature_extraction = TfidfVectorizer(min_df = 1, stop_words = 'english', lowercase=lowercase_value)\n",
    "\n",
    "x_train_features = feature_extraction.fit_transform(x_train)\n",
    "x_test_features = feature_extraction.transform(x_test)\n",
    "\n",
    "y_train = y_train.astype('int')"
   ]
  },
  {
   "cell_type": "code",
   "execution_count": 8,
   "id": "658f8ea0",
   "metadata": {},
   "outputs": [
    {
     "name": "stdout",
     "output_type": "stream",
     "text": [
      "44881    dear sir ,\\n* öðâ · í ¨ åäüþ ³ § óð ¶ àäêéú ² ...\n",
      "75877    welcome to inet r - x ,\\nvi - ag - ra ( 30 pil...\n",
      "23711    i didn ' t see this before it went out , but i...\n",
      "75840    she owned that considering every thing she was...\n",
      "22581    my girlfriend loves the results , but she does...\n",
      "                               ...                        \n",
      "48056    - - - - - original message - - - - -\\nfrom : c...\n",
      "59011    bob and wayne ,\\nit appears that our commercia...\n",
      "77049    adult contents ahead http www asyouwin com gen...\n",
      "67224    canadian generic pharmacy ! private , secure ,...\n",
      "71530    ci - ialis softabs is better than pfizer viiag...\n",
      "Name: text, Length: 66758, dtype: object\n"
     ]
    }
   ],
   "source": [
    "print(x_train)"
   ]
  },
  {
   "cell_type": "code",
   "execution_count": 9,
   "id": "12ae9451",
   "metadata": {},
   "outputs": [
    {
     "name": "stdout",
     "output_type": "stream",
     "text": [
      "  (0, 2190)\t0.01765632496415215\n",
      "  (0, 140385)\t0.022672662799897995\n",
      "  (0, 50989)\t0.009085912125678743\n",
      "  (0, 140384)\t0.021296006429698058\n",
      "  (0, 250670)\t0.00500604690998063\n",
      "  (0, 111365)\t0.003677326923941654\n",
      "  (0, 66478)\t0.009406342128801036\n",
      "  (0, 184185)\t0.010906526096267136\n",
      "  (0, 200310)\t0.00935340927858773\n",
      "  (0, 111390)\t0.01895508525957814\n",
      "  (0, 8391)\t0.018542693689298187\n",
      "  (0, 8287)\t0.01782192878729796\n",
      "  (0, 6921)\t0.01710492187188402\n",
      "  (0, 6752)\t0.013837485252276642\n",
      "  (0, 6321)\t0.019286870595029818\n",
      "  (0, 6260)\t0.018670873343979242\n",
      "  (0, 6115)\t0.015371179246776202\n",
      "  (0, 5702)\t0.018002607410089386\n",
      "  (0, 5598)\t0.019114057706552258\n",
      "  (0, 5417)\t0.01765632496415215\n",
      "  (0, 281)\t0.01880789976303525\n",
      "  (0, 5206)\t0.19909460259397688\n",
      "  (0, 5328)\t0.013005275416205378\n",
      "  (0, 367)\t0.018670873343979242\n",
      "  (0, 5189)\t0.03582042844965977\n",
      "  :\t:\n",
      "  (66757, 47658)\t0.26381435414837523\n",
      "  (66757, 132973)\t0.1389368733660041\n",
      "  (66757, 45212)\t0.11329837959140375\n",
      "  (66757, 57855)\t0.10646043514466909\n",
      "  (66757, 203202)\t0.10241319734812414\n",
      "  (66757, 220752)\t0.10744451315705159\n",
      "  (66757, 196431)\t0.11443323110827842\n",
      "  (66757, 5540)\t0.10622207326609559\n",
      "  (66757, 11930)\t0.10415261459145067\n",
      "  (66757, 36891)\t0.11165994202429563\n",
      "  (66757, 173031)\t0.09136124090056792\n",
      "  (66757, 237554)\t0.12192566777273184\n",
      "  (66757, 159722)\t0.09553022307818815\n",
      "  (66757, 110704)\t0.08201709864659841\n",
      "  (66757, 85861)\t0.1076701946766399\n",
      "  (66757, 97958)\t0.31081274834158934\n",
      "  (66757, 200023)\t0.08625848925665235\n",
      "  (66757, 156647)\t0.1337891114009639\n",
      "  (66757, 74065)\t0.09374199207403286\n",
      "  (66757, 174868)\t0.08545366134809115\n",
      "  (66757, 116183)\t0.08483663068599077\n",
      "  (66757, 182922)\t0.11107551761132725\n",
      "  (66757, 33146)\t0.07145552100927093\n",
      "  (66757, 186852)\t0.0907502886811403\n",
      "  (66757, 111365)\t0.07134834411343098\n"
     ]
    }
   ],
   "source": [
    "print(x_train_features)"
   ]
  },
  {
   "cell_type": "code",
   "execution_count": 10,
   "id": "fdb06b8e",
   "metadata": {},
   "outputs": [],
   "source": [
    "model = LogisticRegression()"
   ]
  },
  {
   "cell_type": "code",
   "execution_count": 11,
   "id": "7c7e8348",
   "metadata": {},
   "outputs": [
    {
     "data": {
      "text/html": [
       "<style>#sk-container-id-1 {color: black;}#sk-container-id-1 pre{padding: 0;}#sk-container-id-1 div.sk-toggleable {background-color: white;}#sk-container-id-1 label.sk-toggleable__label {cursor: pointer;display: block;width: 100%;margin-bottom: 0;padding: 0.3em;box-sizing: border-box;text-align: center;}#sk-container-id-1 label.sk-toggleable__label-arrow:before {content: \"▸\";float: left;margin-right: 0.25em;color: #696969;}#sk-container-id-1 label.sk-toggleable__label-arrow:hover:before {color: black;}#sk-container-id-1 div.sk-estimator:hover label.sk-toggleable__label-arrow:before {color: black;}#sk-container-id-1 div.sk-toggleable__content {max-height: 0;max-width: 0;overflow: hidden;text-align: left;background-color: #f0f8ff;}#sk-container-id-1 div.sk-toggleable__content pre {margin: 0.2em;color: black;border-radius: 0.25em;background-color: #f0f8ff;}#sk-container-id-1 input.sk-toggleable__control:checked~div.sk-toggleable__content {max-height: 200px;max-width: 100%;overflow: auto;}#sk-container-id-1 input.sk-toggleable__control:checked~label.sk-toggleable__label-arrow:before {content: \"▾\";}#sk-container-id-1 div.sk-estimator input.sk-toggleable__control:checked~label.sk-toggleable__label {background-color: #d4ebff;}#sk-container-id-1 div.sk-label input.sk-toggleable__control:checked~label.sk-toggleable__label {background-color: #d4ebff;}#sk-container-id-1 input.sk-hidden--visually {border: 0;clip: rect(1px 1px 1px 1px);clip: rect(1px, 1px, 1px, 1px);height: 1px;margin: -1px;overflow: hidden;padding: 0;position: absolute;width: 1px;}#sk-container-id-1 div.sk-estimator {font-family: monospace;background-color: #f0f8ff;border: 1px dotted black;border-radius: 0.25em;box-sizing: border-box;margin-bottom: 0.5em;}#sk-container-id-1 div.sk-estimator:hover {background-color: #d4ebff;}#sk-container-id-1 div.sk-parallel-item::after {content: \"\";width: 100%;border-bottom: 1px solid gray;flex-grow: 1;}#sk-container-id-1 div.sk-label:hover label.sk-toggleable__label {background-color: #d4ebff;}#sk-container-id-1 div.sk-serial::before {content: \"\";position: absolute;border-left: 1px solid gray;box-sizing: border-box;top: 0;bottom: 0;left: 50%;z-index: 0;}#sk-container-id-1 div.sk-serial {display: flex;flex-direction: column;align-items: center;background-color: white;padding-right: 0.2em;padding-left: 0.2em;position: relative;}#sk-container-id-1 div.sk-item {position: relative;z-index: 1;}#sk-container-id-1 div.sk-parallel {display: flex;align-items: stretch;justify-content: center;background-color: white;position: relative;}#sk-container-id-1 div.sk-item::before, #sk-container-id-1 div.sk-parallel-item::before {content: \"\";position: absolute;border-left: 1px solid gray;box-sizing: border-box;top: 0;bottom: 0;left: 50%;z-index: -1;}#sk-container-id-1 div.sk-parallel-item {display: flex;flex-direction: column;z-index: 1;position: relative;background-color: white;}#sk-container-id-1 div.sk-parallel-item:first-child::after {align-self: flex-end;width: 50%;}#sk-container-id-1 div.sk-parallel-item:last-child::after {align-self: flex-start;width: 50%;}#sk-container-id-1 div.sk-parallel-item:only-child::after {width: 0;}#sk-container-id-1 div.sk-dashed-wrapped {border: 1px dashed gray;margin: 0 0.4em 0.5em 0.4em;box-sizing: border-box;padding-bottom: 0.4em;background-color: white;}#sk-container-id-1 div.sk-label label {font-family: monospace;font-weight: bold;display: inline-block;line-height: 1.2em;}#sk-container-id-1 div.sk-label-container {text-align: center;}#sk-container-id-1 div.sk-container {/* jupyter's `normalize.less` sets `[hidden] { display: none; }` but bootstrap.min.css set `[hidden] { display: none !important; }` so we also need the `!important` here to be able to override the default hidden behavior on the sphinx rendered scikit-learn.org. See: https://github.com/scikit-learn/scikit-learn/issues/21755 */display: inline-block !important;position: relative;}#sk-container-id-1 div.sk-text-repr-fallback {display: none;}</style><div id=\"sk-container-id-1\" class=\"sk-top-container\"><div class=\"sk-text-repr-fallback\"><pre>LogisticRegression()</pre><b>In a Jupyter environment, please rerun this cell to show the HTML representation or trust the notebook. <br />On GitHub, the HTML representation is unable to render, please try loading this page with nbviewer.org.</b></div><div class=\"sk-container\" hidden><div class=\"sk-item\"><div class=\"sk-estimator sk-toggleable\"><input class=\"sk-toggleable__control sk-hidden--visually\" id=\"sk-estimator-id-1\" type=\"checkbox\" checked><label for=\"sk-estimator-id-1\" class=\"sk-toggleable__label sk-toggleable__label-arrow\">LogisticRegression</label><div class=\"sk-toggleable__content\"><pre>LogisticRegression()</pre></div></div></div></div></div>"
      ],
      "text/plain": [
       "LogisticRegression()"
      ]
     },
     "execution_count": 11,
     "metadata": {},
     "output_type": "execute_result"
    }
   ],
   "source": [
    "model.fit(x_train_features, y_train)"
   ]
  },
  {
   "cell_type": "code",
   "execution_count": 12,
   "id": "8061b19b",
   "metadata": {},
   "outputs": [],
   "source": [
    "prediction_on_training_data = model.predict(x_train_features)\n",
    "accuracy_on_training_data = accuracy_score(y_train, prediction_on_training_data)"
   ]
  },
  {
   "cell_type": "code",
   "execution_count": 13,
   "id": "89a7ed4b",
   "metadata": {},
   "outputs": [
    {
     "name": "stdout",
     "output_type": "stream",
     "text": [
      "Acc on training data :  0.9898289343599269\n"
     ]
    }
   ],
   "source": [
    "print('Acc on training data : ' , accuracy_on_training_data)"
   ]
  },
  {
   "cell_type": "code",
   "execution_count": 14,
   "id": "3179083a",
   "metadata": {},
   "outputs": [],
   "source": [
    "prediction_on_test_data = model.predict(x_test_features)\n",
    "accuracy_on_test_data =accuracy_score(y_test, prediction_on_test_data)"
   ]
  },
  {
   "cell_type": "code",
   "execution_count": 15,
   "id": "a8e7302f",
   "metadata": {},
   "outputs": [
    {
     "name": "stdout",
     "output_type": "stream",
     "text": [
      "acc on test data:  0.984661473936489\n"
     ]
    }
   ],
   "source": [
    "print('acc on test data: ', accuracy_on_test_data)"
   ]
  },
  {
   "cell_type": "code",
   "execution_count": 16,
   "id": "9984df38",
   "metadata": {},
   "outputs": [
    {
     "name": "stdout",
     "output_type": "stream",
     "text": [
      "[1]\n",
      "Awesome!! It is a Ham\n"
     ]
    }
   ],
   "source": [
    "input_your_personalmail= [\"works gateway world art explore tattooing full flow walking canvases menu choose folder open dialog appears stuff click button save controls alone save moments\"]\n",
    "input_data_features = feature_extraction.transform(input_your_personalmail)\n",
    "prediction = model.predict(input_data_features)\n",
    "\n",
    "print(prediction)\n",
    "\n",
    "if(prediction[0]==1):\n",
    "    print('Awesome!! It is a Ham')\n",
    "\n",
    "else:\n",
    "   print('Attention!! It is a spam')"
   ]
  },
  {
   "cell_type": "code",
   "execution_count": 17,
   "id": "1c47520c",
   "metadata": {},
   "outputs": [
    {
     "name": "stdout",
     "output_type": "stream",
     "text": [
      "[0]\n",
      "Attention!! It is a spam\n"
     ]
    }
   ],
   "source": [
    "input_your_personalmail= [\"arry king live at escapenumber escapenumber p m et on friday june escapenumber escapenumber cnn tonight michael moore taking your calls michael moore in his first primetime interview on his controversial new film sicko that has everyone talking he says that americas health care industry gets away with murder what do you think michael moore for the hour answering your calls and emails tonight only on larry king live visit http www cnn com larryking and e mail us your questions for tonights guest larry king live the greatest interviews  now available on dvd larry king live is the first worldwide phone in television talk show and cnn's highest rated program this commemorative dvd celebrates larry kings escapenumber years in broadcasting the dvd is hosted by larry king in his warm engaging style and contains over escapenumber hours of his most extraordinary and entertaining programming this dvd can be purchased at http whv warnerbros com sites kingoftalk larry king live can also be seen on cnn international at these times around the world europe middle east and africa cet live at escapenumber south asia ist live at escapenumber escapenumber asia pacific hkt live at escapenumber latin america est live at escapenumber wondering what guests and topics are on other cnn prime time shows sign up to receive your 'tonight on cnn' e mail cnn the most trusted name in news read our privacy guidelines at http www cnn com privacy html you have agreed to receive this email from cnn com as a result of your cnn com preference settings to manage your settings go to http audience cnn com services cnn memberservices member auth jsp url http escapenumbera escapenumberf escapelong cnn com escapelong escapenumberfcnn escapelong escapelong escapenumberfmember profile jsp escapenumberfsource escapenumberdcnn to unsubscribe from the larry king live list go to http cgi cnn com m clik e ktwarwic speedy uwaterloo ca l larryking cable news network one cnn center atlanta georgia escapenumber c escapenumber cable news network a time warner company all rights reserved \"]\n",
    "input_data_features =feature_extraction.transform(input_your_personalmail)\n",
    "\n",
    "prediction =model.predict(input_data_features)\n",
    "\n",
    "print(prediction)\n",
    "\n",
    "if(prediction[0] ==1):\n",
    "    print('Awesome!! It is a Ham')\n",
    "\n",
    "else:\n",
    "   print('Attention!! It is a spam')\n",
    "   "
   ]
  },
  {
   "cell_type": "code",
   "execution_count": null,
   "id": "75a1ee8f",
   "metadata": {},
   "outputs": [],
   "source": []
  },
  {
   "cell_type": "code",
   "execution_count": null,
   "id": "927fdfc4",
   "metadata": {},
   "outputs": [],
   "source": []
  }
 ],
 "metadata": {
  "kernelspec": {
   "display_name": "Python 3 (ipykernel)",
   "language": "python",
   "name": "python3"
  },
  "language_info": {
   "codemirror_mode": {
    "name": "ipython",
    "version": 3
   },
   "file_extension": ".py",
   "mimetype": "text/x-python",
   "name": "python",
   "nbconvert_exporter": "python",
   "pygments_lexer": "ipython3",
   "version": "3.11.5"
  }
 },
 "nbformat": 4,
 "nbformat_minor": 5
}
